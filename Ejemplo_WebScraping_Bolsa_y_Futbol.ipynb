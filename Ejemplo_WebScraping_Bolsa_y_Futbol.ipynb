{
 "cells": [
  {
   "cell_type": "markdown",
   "metadata": {},
   "source": [
    "# Ejemplo de WebScraping con Python\n",
    "## Obtener Ibex35 bolsa de Madrid\n",
    "\n",
    "Articulo: https://www.aprendemachinelearning.com/ejemplo-web-scraping-python-ibex35-bolsa-valores/"
   ]
  },
  {
   "cell_type": "code",
   "execution_count": 1,
   "metadata": {
    "ExecuteTime": {
     "end_time": "2019-01-27T17:53:23.662759Z",
     "start_time": "2019-01-27T17:53:23.651938Z"
    }
   },
   "outputs": [],
   "source": [
    "# import libraries\n",
    "import requests\n",
    "from bs4 import BeautifulSoup\n",
    "import csv\n",
    "from datetime import datetime"
   ]
  },
  {
   "cell_type": "code",
   "execution_count": 2,
   "metadata": {
    "ExecuteTime": {
     "end_time": "2019-01-27T17:38:57.659158Z",
     "start_time": "2019-01-27T17:38:57.655785Z"
    }
   },
   "outputs": [],
   "source": [
    "# indicar la ruta\n",
    "url_page = 'http://www.bolsamadrid.es/esp/aspx/Indices/Resumen.aspx'"
   ]
  },
  {
   "cell_type": "code",
   "execution_count": 4,
   "metadata": {
    "ExecuteTime": {
     "end_time": "2019-01-27T17:40:11.127856Z",
     "start_time": "2019-01-27T17:40:10.642601Z"
    }
   },
   "outputs": [],
   "source": [
    "# tarda 480 milisegundos\n",
    "page = requests.get(url_page).text \n",
    "soup = BeautifulSoup(page, \"lxml\")"
   ]
  },
  {
   "cell_type": "code",
   "execution_count": 5,
   "metadata": {
    "ExecuteTime": {
     "end_time": "2019-01-27T17:42:00.515429Z",
     "start_time": "2019-01-27T17:42:00.504178Z"
    }
   },
   "outputs": [
    {
     "data": {
      "text/plain": [
       "<table align=\"Center\" cellpadding=\"3\" cellspacing=\"0\" class=\"TblPort\" id=\"ctl00_Contenido_tblÍndices\" style=\"margin-bottom: 20px;\" width=\"85%\">\n",
       "<tr align=\"center\">\n",
       "<th scope=\"col\">Nombre</th><th scope=\"col\">Anterior</th><th scope=\"col\">Último</th><th scope=\"col\">% Dif.</th><th scope=\"col\">Máximo</th><th scope=\"col\">Mínimo</th><th scope=\"col\">Fecha</th><th scope=\"col\">Hora</th><th class=\"Ult\" scope=\"col\">% Dif.<br/>Año 2019</th>\n",
       "</tr><tr align=\"right\">\n",
       "<td align=\"left\" class=\"DifFlSb\">IBEX 35®</td><td>9.214,00</td><td>9.254,70</td><td class=\"DifClSb\">0,44</td><td>9.295,50</td><td>9.229,70</td><td align=\"center\">22/11/2019</td><td align=\"center\">17:38:00</td><td class=\"DifClSb Ult\">8,37</td>\n",
       "</tr><tr align=\"right\">\n",
       "<td align=\"left\" class=\"DifFlSb\">IBEX 35® con Dividendos</td><td>26.662,30</td><td>26.780,10</td><td class=\"DifClSb\">0,44</td><td>26.898,10</td><td>26.707,60</td><td align=\"center\">22/11/2019</td><td align=\"center\">17:38:00</td><td class=\"DifClSb Ult\">12,34</td>\n",
       "</tr><tr align=\"right\">\n",
       "<td align=\"left\" class=\"DifFlSb\">IBEX MEDIUM CAP®</td><td>13.780,00</td><td>13.890,40</td><td class=\"DifClSb\">0,80</td><td>13.915,60</td><td>13.805,20</td><td align=\"center\">22/11/2019</td><td align=\"center\">17:38:00</td><td class=\"DifClSb Ult\">6,90</td>\n",
       "</tr><tr align=\"right\">\n",
       "<td align=\"left\" class=\"DifFlSb\">IBEX SMALL CAP®</td><td>6.614,00</td><td>6.696,50</td><td class=\"DifClSb\">1,25</td><td>6.771,90</td><td>6.630,30</td><td align=\"center\">22/11/2019</td><td align=\"center\">17:38:01</td><td class=\"DifClSb Ult\">10,02</td>\n",
       "</tr><tr align=\"right\">\n",
       "<td align=\"left\" class=\"DifFlSb\">IBEX 35® Bancos</td><td>493,90</td><td>499,00</td><td class=\"DifClSb\">1,03</td><td>504,90</td><td>494,90</td><td align=\"center\">22/11/2019</td><td align=\"center\">17:38:01</td><td class=\"DifClBj Ult\">-6,82</td>\n",
       "</tr><tr align=\"right\">\n",
       "<td align=\"left\" class=\"DifFlSb\">IBEX 35® Energía</td><td>1.350,70</td><td>1.352,50</td><td class=\"DifClSb\">0,13</td><td>1.358,70</td><td>1.351,10</td><td align=\"center\">22/11/2019</td><td align=\"center\">17:38:01</td><td class=\"DifClSb Ult\">12,42</td>\n",
       "</tr><tr align=\"right\">\n",
       "<td align=\"left\" class=\"DifFlSb\">IBEX 35® Construcción</td><td>1.538,20</td><td>1.541,40</td><td class=\"DifClSb\">0,21</td><td>1.549,50</td><td>1.538,10</td><td align=\"center\">22/11/2019</td><td align=\"center\">17:38:01</td><td class=\"DifClSb Ult\">24,58</td>\n",
       "</tr><tr align=\"right\">\n",
       "<td align=\"left\" class=\"DifFlSb\">IBEX TOP Dividendo®</td><td>2.873,00</td><td>2.895,10</td><td class=\"DifClSb\">0,77</td><td>2.908,40</td><td>2.879,10</td><td align=\"center\">22/11/2019</td><td align=\"center\">17:38:00</td><td class=\"DifClSb Ult\">5,90</td>\n",
       "</tr><tr align=\"right\">\n",
       "<td align=\"left\" class=\"DifFlSb\">IBEX 35® con Dividendos Netos</td><td>22.547,90</td><td>22.647,60</td><td class=\"DifClSb\">0,44</td><td>22.747,30</td><td>22.586,30</td><td align=\"center\">22/11/2019</td><td align=\"center\">17:38:00</td><td class=\"DifClSb Ult\">11,58</td>\n",
       "</tr><tr align=\"right\">\n",
       "<td align=\"left\" class=\"DifFlBj\">IBEX 35® Inverso</td><td>2.559,50</td><td>2.548,20</td><td class=\"DifClBj\">-0,44</td><td>2.555,10</td><td>2.536,80</td><td align=\"center\">22/11/2019</td><td align=\"center\">17:38:00</td><td class=\"DifClBj Ult\">-12,43</td>\n",
       "</tr><tr align=\"right\">\n",
       "<td align=\"left\" class=\"DifFlBj\">IBEX 35® Doble Inverso</td><td>373,90</td><td>370,60</td><td class=\"DifClBj\">-0,88</td><td>372,60</td><td>367,30</td><td align=\"center\">22/11/2019</td><td align=\"center\">17:38:00</td><td class=\"DifClBj Ult\">-24,46</td>\n",
       "</tr><tr align=\"right\">\n",
       "<td align=\"left\" class=\"DifFlBj\">IBEX 35® Inverso X3</td><td>23,90</td><td>23,60</td><td class=\"DifClBj\">-1,26</td><td>23,80</td><td>23,30</td><td align=\"center\">22/11/2019</td><td align=\"center\">17:38:00</td><td class=\"DifClBj Ult\">-36,22</td>\n",
       "</tr><tr align=\"right\">\n",
       "<td align=\"left\" class=\"DifFlBj\">IBEX 35® Inverso X5</td><td>8.824,60</td><td>8.629,30</td><td class=\"DifClBj\">-2,21</td><td>8.749,30</td><td>8.434,10</td><td align=\"center\">22/11/2019</td><td align=\"center\">17:38:00</td><td class=\"DifClSb Ult\">482,32</td>\n",
       "</tr><tr align=\"right\">\n",
       "<td align=\"left\" class=\"DifFlBj\">IBEX 35® Inverso X10</td><td>186,00</td><td>177,80</td><td class=\"DifClBj\">-4,41</td><td>182,80</td><td>169,50</td><td align=\"center\">22/11/2019</td><td align=\"center\">17:38:00</td><td class=\"DifClBj Ult\">-85,97</td>\n",
       "</tr><tr align=\"right\">\n",
       "<td align=\"left\" class=\"DifFlSb\">IBEX 35® Doble Apalancado</td><td>5.179,50</td><td>5.225,20</td><td class=\"DifClSb\">0,88</td><td>5.271,10</td><td>5.197,10</td><td align=\"center\">22/11/2019</td><td align=\"center\">17:38:00</td><td class=\"DifClSb Ult\">15,56</td>\n",
       "</tr><tr align=\"right\">\n",
       "<td align=\"left\" class=\"DifFlSb\">IBEX 35® Doble Apalancado Bruto</td><td>21.752,60</td><td>21.944,70</td><td class=\"DifClSb\">0,88</td><td>22.137,20</td><td>21.826,40</td><td align=\"center\">22/11/2019</td><td align=\"center\">17:38:00</td><td class=\"DifClSb Ult\">24,16</td>\n",
       "</tr><tr align=\"right\">\n",
       "<td align=\"left\" class=\"DifFlSb\">IBEX 35® Doble Apalancado Neto</td><td>18.467,40</td><td>18.630,60</td><td class=\"DifClSb\">0,88</td><td>18.793,90</td><td>18.530,20</td><td align=\"center\">22/11/2019</td><td align=\"center\">17:38:00</td><td class=\"DifClSb Ult\">22,49</td>\n",
       "</tr><tr align=\"right\">\n",
       "<td align=\"left\" class=\"DifFlSb\">IBEX 35® Apalancado X3</td><td>1.014,60</td><td>1.028,00</td><td class=\"DifClSb\">1,32</td><td>1.041,50</td><td>1.019,80</td><td align=\"center\">22/11/2019</td><td align=\"center\">17:38:00</td><td class=\"DifClSb Ult\">21,47</td>\n",
       "</tr><tr align=\"right\">\n",
       "<td align=\"left\" class=\"DifFlSb\">IBEX 35® Apalancado Neto X3</td><td>10.464,70</td><td>10.603,40</td><td class=\"DifClSb\">1,33</td><td>10.742,20</td><td>10.518,00</td><td align=\"center\">22/11/2019</td><td align=\"center\">17:38:00</td><td class=\"DifClSb Ult\">32,59</td>\n",
       "</tr><tr align=\"right\">\n",
       "<td align=\"left\" class=\"DifFlSb\">IBEX 35® Apalancado Neto X5</td><td>1.915,90</td><td>1.958,20</td><td class=\"DifClSb\">2,21</td><td>2.000,60</td><td>1.932,20</td><td align=\"center\">22/11/2019</td><td align=\"center\">17:38:00</td><td class=\"DifClSb Ult\">48,88</td>\n",
       "</tr><tr align=\"right\">\n",
       "<td align=\"left\" class=\"DifFlSb\">IBEX 35® Apalancado Neto X10</td><td>1.338,70</td><td>1.397,80</td><td class=\"DifClSb\">4,41</td><td>1.457,00</td><td>1.361,40</td><td align=\"center\">22/11/2019</td><td align=\"center\">17:38:00</td><td class=\"DifClSb Ult\">54,08</td>\n",
       "</tr><tr align=\"right\">\n",
       "<td align=\"left\" class=\"DifFlSb\">IBEX 35® Capped Net Return</td><td>22.609,70</td><td>22.709,60</td><td class=\"DifClSb\">0,44</td><td>22.809,60</td><td>22.648,10</td><td align=\"center\">22/11/2019</td><td align=\"center\">17:38:01</td><td class=\"DifClSb Ult\">11,58</td>\n",
       "</tr><tr align=\"right\">\n",
       "<td align=\"left\" class=\"DifFlIg\">IBEX 35® Impacto Div</td><td>354,00</td><td>354,00</td><td class=\"DifClIg\">- </td><td>354,00</td><td>354,00</td><td align=\"center\">22/11/2019</td><td align=\"center\">17:38:00</td><td class=\"DifClIg Ult\">- </td>\n",
       "</tr><tr align=\"right\">\n",
       "<td align=\"left\" class=\"DifFlSb\">IBEX 35® Volatilidad Objetivo 10% Estándar</td><td>182,30</td><td>183,00</td><td class=\"DifClSb\">0,38</td><td>183,60</td><td>182,60</td><td align=\"center\">22/11/2019</td><td align=\"center\">17:38:00</td><td class=\"DifClSb Ult\">5,84</td>\n",
       "</tr><tr align=\"right\">\n",
       "<td align=\"left\" class=\"DifFlSb\">IBEX 35® Volatilidad Objetivo 12% Estándar</td><td>189,40</td><td>190,20</td><td class=\"DifClSb\">0,42</td><td>191,00</td><td>189,70</td><td align=\"center\">22/11/2019</td><td align=\"center\">17:38:00</td><td class=\"DifClSb Ult\">6,97</td>\n",
       "</tr><tr align=\"right\">\n",
       "<td align=\"left\" class=\"DifFlSb\">IBEX 35® Volatilidad Objetivo 15% Estándar</td><td>194,90</td><td>195,90</td><td class=\"DifClSb\">0,51</td><td>197,00</td><td>195,30</td><td align=\"center\">22/11/2019</td><td align=\"center\">17:38:00</td><td class=\"DifClSb Ult\">8,53</td>\n",
       "</tr><tr align=\"right\">\n",
       "<td align=\"left\" class=\"DifFlSb\">IBEX 35® Volatilidad Objetivo 18% Estándar</td><td>196,60</td><td>197,90</td><td class=\"DifClSb\">0,66</td><td>199,10</td><td>197,10</td><td align=\"center\">22/11/2019</td><td align=\"center\">17:38:00</td><td class=\"DifClSb Ult\">11,24</td>\n",
       "</tr><tr align=\"right\">\n",
       "<td align=\"left\" class=\"DifFlSb\">IBEX 35® Volatilidad Objetivo 10% Financiado</td><td>131,70</td><td>132,20</td><td class=\"DifClSb\">0,38</td><td>132,60</td><td>131,90</td><td align=\"center\">22/11/2019</td><td align=\"center\">17:38:00</td><td class=\"DifClSb Ult\">5,93</td>\n",
       "</tr><tr align=\"right\">\n",
       "<td align=\"left\" class=\"DifFlSb\">IBEX 35® Volatilidad Objetivo 12% Financiado</td><td>134,50</td><td>135,10</td><td class=\"DifClSb\">0,45</td><td>135,70</td><td>134,70</td><td align=\"center\">22/11/2019</td><td align=\"center\">17:38:00</td><td class=\"DifClSb Ult\">7,05</td>\n",
       "</tr><tr align=\"right\">\n",
       "<td align=\"left\" class=\"DifFlSb\">IBEX 35® Volatilidad Objetivo 15% Financiado</td><td>142,90</td><td>143,70</td><td class=\"DifClSb\">0,56</td><td>144,40</td><td>143,20</td><td align=\"center\">22/11/2019</td><td align=\"center\">17:38:00</td><td class=\"DifClSb Ult\">8,45</td>\n",
       "</tr><tr align=\"right\">\n",
       "<td align=\"left\" class=\"DifFlSb\">IBEX 35® Volatilidad Objetivo 18% Financiado</td><td>137,90</td><td>138,80</td><td class=\"DifClSb\">0,65</td><td>139,70</td><td>138,20</td><td align=\"center\">22/11/2019</td><td align=\"center\">17:38:00</td><td class=\"DifClSb Ult\">10,86</td>\n",
       "</tr><tr align=\"right\">\n",
       "<td align=\"left\" class=\"DifFlBj\">VIBEX®</td><td>12,74</td><td>11,44</td><td class=\"DifClBj\">-10,20</td><td>11,44</td><td>11,44</td><td align=\"center\">22/11/2019</td><td align=\"center\"> </td><td class=\"DifClBj Ult\">-45,86</td>\n",
       "</tr><tr align=\"right\">\n",
       "<td align=\"left\" class=\"DifFlSb\">IBEX 35® Skew</td><td>6,43</td><td>6,48</td><td class=\"DifClSb\">0,78</td><td>6,48</td><td>6,48</td><td align=\"center\">22/11/2019</td><td align=\"center\"> </td><td class=\"DifClSb Ult\">17,39</td>\n",
       "</tr><tr align=\"right\">\n",
       "<td align=\"left\" class=\"DifFlSb\">IBEX 35® BuyWrite</td><td>1.605,98</td><td>1.612,59</td><td class=\"DifClSb\">0,41</td><td>1.612,59</td><td>1.612,59</td><td align=\"center\">22/11/2019</td><td align=\"center\"> </td><td class=\"DifClSb Ult\">8,35</td>\n",
       "</tr><tr align=\"right\">\n",
       "<td align=\"left\" class=\"DifFlSb\">IBEX 35® PutWrite</td><td>1.632,86</td><td>1.635,37</td><td class=\"DifClSb\">0,15</td><td>1.635,37</td><td>1.635,37</td><td align=\"center\">22/11/2019</td><td align=\"center\"> </td><td class=\"DifClSb Ult\">2,59</td>\n",
       "</tr><tr align=\"right\">\n",
       "<td align=\"left\" class=\"DifFlSb\">IBEX 35® Protective Put</td><td>579,65</td><td>580,84</td><td class=\"DifClSb\">0,21</td><td>580,84</td><td>580,84</td><td align=\"center\">22/11/2019</td><td align=\"center\"> </td><td class=\"DifClSb Ult\">7,95</td>\n",
       "</tr><tr align=\"right\">\n",
       "<td align=\"left\" class=\"DifFlSb\">IBEX 35® Venta de Strangle</td><td>2.082,79</td><td>2.087,11</td><td class=\"DifClSb\">0,21</td><td>2.087,11</td><td>2.087,11</td><td align=\"center\">22/11/2019</td><td align=\"center\"> </td><td class=\"DifClBj Ult\">-1,02</td>\n",
       "</tr><tr align=\"right\">\n",
       "<td align=\"left\" class=\"DifFlSb\">IBEX TOP Dividendo® Rentabilidad</td><td>7.075,30</td><td>7.129,60</td><td class=\"DifClSb\">0,77</td><td>7.162,40</td><td>7.090,10</td><td align=\"center\">22/11/2019</td><td align=\"center\">17:38:00</td><td class=\"DifClSb Ult\">10,28</td>\n",
       "</tr><tr align=\"right\">\n",
       "<td align=\"left\" class=\"DifFlSb\">IBEX TOP Dividendo® Rentabilidad Neta</td><td>5.958,90</td><td>6.004,60</td><td class=\"DifClSb\">0,77</td><td>6.032,20</td><td>5.971,40</td><td align=\"center\">22/11/2019</td><td align=\"center\">17:38:00</td><td class=\"DifClSb Ult\">9,46</td>\n",
       "</tr><tr align=\"right\">\n",
       "<td align=\"left\" class=\"DifFlSb\">IBEX MEDIUM CAP® con Dividendos</td><td>14.880,50</td><td>14.999,70</td><td class=\"DifClSb\">0,80</td><td>15.026,90</td><td>14.909,50</td><td align=\"center\">22/11/2019</td><td align=\"center\">17:38:00</td><td class=\"DifClSb Ult\">9,71</td>\n",
       "</tr><tr align=\"right\">\n",
       "<td align=\"left\" class=\"DifFlSb\">IBEX MEDIUM CAP® con Dividendos Netos</td><td>13.946,00</td><td>14.057,70</td><td class=\"DifClSb\">0,80</td><td>14.083,10</td><td>13.973,20</td><td align=\"center\">22/11/2019</td><td align=\"center\">17:38:00</td><td class=\"DifClSb Ult\">9,17</td>\n",
       "</tr><tr align=\"right\">\n",
       "<td align=\"left\" class=\"DifFlSb\">IBEX SMALL CAP® con Dividendos</td><td>9.533,00</td><td>9.651,90</td><td class=\"DifClSb\">1,25</td><td>9.760,70</td><td>9.556,50</td><td align=\"center\">22/11/2019</td><td align=\"center\">17:38:01</td><td class=\"DifClSb Ult\">12,00</td>\n",
       "</tr><tr align=\"right\">\n",
       "<td align=\"left\" class=\"DifFlSb\">IBEX SMALL CAP® con Dividendos Netos</td><td>9.222,80</td><td>9.337,90</td><td class=\"DifClSb\">1,25</td><td>9.443,10</td><td>9.245,60</td><td align=\"center\">22/11/2019</td><td align=\"center\">17:38:01</td><td class=\"DifClSb Ult\">11,67</td>\n",
       "</tr><tr align=\"right\">\n",
       "<td align=\"left\" class=\"DifFlBj\">IBEX MAB® 15</td><td>1.330,50</td><td>1.322,60</td><td class=\"DifClBj\">-0,59</td><td>1.335,50</td><td>1.311,30</td><td align=\"center\">22/11/2019</td><td align=\"center\">17:39:00</td><td class=\"DifClSb Ult\">45,72</td>\n",
       "</tr><tr align=\"right\">\n",
       "<td align=\"left\" class=\"DifFlBj\">IBEX MAB® All Share</td><td>1.145,90</td><td>1.140,60</td><td class=\"DifClBj\">-0,46</td><td>1.149,00</td><td>1.134,00</td><td align=\"center\">22/11/2019</td><td align=\"center\">17:39:00</td><td class=\"DifClSb Ult\">22,16</td>\n",
       "</tr><tr align=\"right\">\n",
       "<td align=\"left\" class=\"DifFlSb\">FTSE4Good IBEX</td><td>9.517,50</td><td>9.583,40</td><td class=\"DifClSb\">0,69</td><td>9.617,20</td><td>9.536,40</td><td align=\"center\">22/11/2019</td><td align=\"center\">17:38:01</td><td class=\"DifClSb Ult\">8,24</td>\n",
       "</tr><tr align=\"right\">\n",
       "<td align=\"left\" class=\"DifFlSb\">FTSE4Good IBEX Total Return</td><td>20.131,40</td><td>20.271,00</td><td class=\"DifClSb\">0,69</td><td>20.342,30</td><td>20.171,50</td><td align=\"center\">22/11/2019</td><td align=\"center\">17:38:01</td><td class=\"DifClSb Ult\">12,04</td>\n",
       "</tr><tr align=\"right\">\n",
       "<td align=\"left\" class=\"DifFlSb\">FTSE4Good IBEX Net Return</td><td>17.993,70</td><td>18.118,40</td><td class=\"DifClSb\">0,69</td><td>18.182,10</td><td>18.029,50</td><td align=\"center\">22/11/2019</td><td align=\"center\">17:38:01</td><td class=\"DifClSb Ult\">11,31</td>\n",
       "</tr><tr align=\"right\">\n",
       "<td align=\"left\" class=\"DifFlSb\">FTSE Latibex All Share</td><td>2.344,40</td><td>2.396,60</td><td class=\"DifClSb\">2,23</td><td>2.396,60</td><td>2.339,30</td><td align=\"center\">22/11/2019</td><td align=\"center\">17:38:00</td><td class=\"DifClSb Ult\">10,02</td>\n",
       "</tr><tr align=\"right\">\n",
       "<td align=\"left\" class=\"DifFlSb\">FTSE Latibex TOP</td><td>4.928,00</td><td>5.028,20</td><td class=\"DifClSb\">2,03</td><td>5.028,20</td><td>4.915,70</td><td align=\"center\">22/11/2019</td><td align=\"center\">17:38:00</td><td class=\"DifClSb Ult\">7,51</td>\n",
       "</tr><tr align=\"right\">\n",
       "<td align=\"left\" class=\"DifFlSb\">FTSE Latibex BRASIL</td><td>10.765,20</td><td>11.125,10</td><td class=\"DifClSb\">3,34</td><td>11.125,10</td><td>10.748,70</td><td align=\"center\">22/11/2019</td><td align=\"center\">17:38:00</td><td class=\"DifClSb Ult\">8,10</td>\n",
       "</tr><tr align=\"right\">\n",
       "<td align=\"left\" class=\"DifFlSb\">I.G.B.M.</td><td>921,18</td><td>925,84</td><td class=\"DifClSb\">0,51</td><td>929,76</td><td>923,24</td><td align=\"center\">22/11/2019</td><td align=\"center\">17:38:00</td><td class=\"DifClSb Ult\">7,33</td>\n",
       "</tr><tr align=\"right\">\n",
       "<td align=\"left\" class=\"DifFlSb\">I.G.B.M. Total</td><td>3.719,95</td><td>3.739,16</td><td class=\"DifClSb\">0,52</td><td>3.739,16</td><td>3.739,16</td><td align=\"center\">22/11/2019</td><td align=\"center\">17:38:00</td><td class=\"DifClSb Ult\">11,88</td>\n",
       "</tr><tr align=\"right\">\n",
       "<td align=\"left\" class=\"DifFlSb\">BCN GLOBAL 100 (Base 1986)</td><td>706,87</td><td>712,79</td><td class=\"DifClSb\">0,84</td><td>716,02</td><td>708,64</td><td align=\"center\">22/11/2019</td><td align=\"center\">17:38:00</td><td class=\"DifClSb Ult\">6,35</td>\n",
       "</tr><tr align=\"right\">\n",
       "<td align=\"left\" class=\"DifFlSb\">BCN GLOBAL 100 (Base 1963)</td><td>1.816,77</td><td>1.831,98</td><td class=\"DifClSb\">0,84</td><td>1.840,29</td><td>1.821,32</td><td align=\"center\">22/11/2019</td><td align=\"center\">17:38:00</td><td class=\"DifClSb Ult\">6,35</td>\n",
       "</tr><tr align=\"right\">\n",
       "<td align=\"left\" class=\"DifFlSb\">BCN MID 50</td><td>22.465,83</td><td>22.683,77</td><td class=\"DifClSb\">0,97</td><td>22.727,02</td><td>22.517,54</td><td align=\"center\">22/11/2019</td><td align=\"center\">17:38:00</td><td class=\"DifClSb Ult\">12,20</td>\n",
       "</tr><tr align=\"right\">\n",
       "<td align=\"left\" class=\"DifFlSb\">BCN PROFIT-30</td><td>12.817,42</td><td>12.898,94</td><td class=\"DifClSb\">0,64</td><td>12.959,02</td><td>12.844,45</td><td align=\"center\">22/11/2019</td><td align=\"center\">17:38:01</td><td class=\"DifClSb Ult\">1,04</td>\n",
       "</tr><tr align=\"right\">\n",
       "<td align=\"left\" class=\"DifFlSb\">BCN ROE-30</td><td>20.283,93</td><td>20.456,65</td><td class=\"DifClSb\">0,85</td><td>20.525,72</td><td>20.312,78</td><td align=\"center\">22/11/2019</td><td align=\"center\">17:38:01</td><td class=\"DifClSb Ult\">4,12</td>\n",
       "</tr><tr align=\"right\">\n",
       "<td align=\"left\" class=\"DifFlSb\">BCN PER-30</td><td>20.957,14</td><td>21.156,77</td><td class=\"DifClSb\">0,95</td><td>21.273,64</td><td>20.996,03</td><td align=\"center\">22/11/2019</td><td align=\"center\">17:38:01</td><td class=\"DifClSb Ult\">0,38</td>\n",
       "</tr><tr align=\"right\">\n",
       "<td align=\"left\" class=\"DifFlSb\">BCN INDEXCAT</td><td>21.997,18</td><td>22.004,94</td><td class=\"DifClSb\">0,04</td><td>22.105,02</td><td>21.974,53</td><td align=\"center\">22/11/2019</td><td align=\"center\">17:38:00</td><td class=\"DifClSb Ult\">19,23</td>\n",
       "</tr><tr align=\"right\">\n",
       "<td align=\"left\" class=\"DifFlSb\">BCN TOP EURO</td><td>1.071,24</td><td>1.075,76</td><td class=\"DifClSb\">0,42</td><td>1.080,45</td><td>1.073,47</td><td align=\"center\">22/11/2019</td><td align=\"center\">17:38:01</td><td class=\"DifClSb Ult\">7,58</td>\n",
       "</tr><tr align=\"right\">\n",
       "<td align=\"left\" class=\"DifFlSb\">BCN TOP 5</td><td>1.056,35</td><td>1.062,42</td><td class=\"DifClSb\">0,57</td><td>1.068,52</td><td>1.058,58</td><td align=\"center\">22/11/2019</td><td align=\"center\">17:38:01</td><td class=\"DifClSb Ult\">6,24</td>\n",
       "</tr><tr align=\"right\">\n",
       "<td align=\"left\" class=\"DifFlSb\">BILBAO</td><td>1.428,39</td><td>1.435,80</td><td class=\"DifClSb\">0,52</td><td>1.441,62</td><td>1.430,99</td><td align=\"center\">22/11/2019</td><td align=\"center\">17:38:00</td><td class=\"DifClSb Ult\">7,95</td>\n",
       "</tr><tr align=\"right\">\n",
       "<td align=\"left\" class=\"DifFlSb\">VALENCIA</td><td>1.221,99</td><td>1.231,34</td><td class=\"DifClSb\">0,77</td><td>1.236,74</td><td>1.225,28</td><td align=\"center\">22/11/2019</td><td align=\"center\">17:38:00</td><td class=\"DifClSb Ult\">10,08</td>\n",
       "</tr><tr align=\"right\">\n",
       "<td align=\"left\" class=\"DifFlSb\">Índice TEF Apalancado X3</td><td>2.030,60</td><td>2.114,60</td><td class=\"DifClSb\">4,14</td><td>2.144,70</td><td>2.064,40</td><td align=\"center\">22/11/2019</td><td align=\"center\">17:38:01</td><td class=\"DifClBj Ult\">-23,02</td>\n",
       "</tr><tr align=\"right\">\n",
       "<td align=\"left\" class=\"DifFlSb\">Índice SAN Apalancado X3</td><td>1.723,50</td><td>1.785,80</td><td class=\"DifClSb\">3,61</td><td>1.862,60</td><td>1.732,20</td><td align=\"center\">22/11/2019</td><td align=\"center\">17:38:01</td><td class=\"DifClBj Ult\">-27,98</td>\n",
       "</tr><tr align=\"right\">\n",
       "<td align=\"left\" class=\"DifFlSb\">Índice BBVA Apalancado X3</td><td>1.260,10</td><td>1.289,10</td><td class=\"DifClSb\">2,30</td><td>1.333,90</td><td>1.262,90</td><td align=\"center\">22/11/2019</td><td align=\"center\">17:38:00</td><td class=\"DifClSb Ult\">5,93</td>\n",
       "</tr><tr align=\"right\">\n",
       "<td align=\"left\" class=\"DifFlBj\">Índice ITX Apalancado X3</td><td>5.525,80</td><td>5.489,60</td><td class=\"DifClBj\">-0,66</td><td>5.640,10</td><td>5.435,50</td><td align=\"center\">22/11/2019</td><td align=\"center\">17:38:01</td><td class=\"DifClSb Ult\">78,34</td>\n",
       "</tr><tr align=\"right\">\n",
       "<td align=\"left\" class=\"DifFlSb\">Índice TEF Apalancado X5</td><td>43,80</td><td>46,80</td><td class=\"DifClSb\">6,85</td><td>47,90</td><td>45,00</td><td align=\"center\">22/11/2019</td><td align=\"center\">17:38:01</td><td class=\"DifClBj Ult\">-43,68</td>\n",
       "</tr><tr align=\"right\">\n",
       "<td align=\"left\" class=\"DifFlSb\">Índice SAN Apalancado X5</td><td>235,00</td><td>249,20</td><td class=\"DifClSb\">6,04</td><td>266,60</td><td>237,00</td><td align=\"center\">22/11/2019</td><td align=\"center\">17:38:01</td><td class=\"DifClBj Ult\">-56,79</td>\n",
       "</tr><tr align=\"right\">\n",
       "<td align=\"left\" class=\"DifFlSb\">Índice BBVA Apalancado X5</td><td>40,50</td><td>42,10</td><td class=\"DifClSb\">3,95</td><td>44,50</td><td>40,60</td><td align=\"center\">22/11/2019</td><td align=\"center\">17:38:00</td><td class=\"DifClBj Ult\">-17,29</td>\n",
       "</tr><tr align=\"right\">\n",
       "<td align=\"left\" class=\"DifFlBj\">Índice ITX Apalancado X5</td><td>1.338,30</td><td>1.323,70</td><td class=\"DifClBj\">-1,09</td><td>1.384,40</td><td>1.301,80</td><td align=\"center\">22/11/2019</td><td align=\"center\">17:38:01</td><td class=\"DifClSb Ult\">113,78</td>\n",
       "</tr><tr align=\"right\">\n",
       "<td align=\"left\" class=\"DifFlBj\">Índice TEF Inverso X3</td><td>3.297,00</td><td>3.159,00</td><td class=\"DifClBj\">-4,19</td><td>3.240,50</td><td>3.110,10</td><td align=\"center\">22/11/2019</td><td align=\"center\">17:38:01</td><td class=\"DifClBj Ult\">-14,56</td>\n",
       "</tr><tr align=\"right\">\n",
       "<td align=\"left\" class=\"DifFlBj\">Índice SAN Inverso X3</td><td>682,70</td><td>657,70</td><td class=\"DifClBj\">-3,66</td><td>678,90</td><td>627,30</td><td align=\"center\">22/11/2019</td><td align=\"center\">17:38:01</td><td class=\"DifClBj Ult\">-31,85</td>\n",
       "</tr><tr align=\"right\">\n",
       "<td align=\"left\" class=\"DifFlBj\">Índice BBVA Inverso X3</td><td>1.509,80</td><td>1.474,30</td><td class=\"DifClBj\">-2,35</td><td>1.505,70</td><td>1.420,60</td><td align=\"center\">22/11/2019</td><td align=\"center\">17:38:00</td><td class=\"DifClBj Ult\">-53,06</td>\n",
       "</tr><tr align=\"right\">\n",
       "<td align=\"left\" class=\"DifFlSb\">Índice ITX Inverso X3</td><td>1.696,90</td><td>1.707,10</td><td class=\"DifClSb\">0,60</td><td>1.723,80</td><td>1.660,90</td><td align=\"center\">22/11/2019</td><td align=\"center\">17:38:01</td><td class=\"DifClBj Ult\">-67,40</td>\n",
       "</tr><tr align=\"right\">\n",
       "<td align=\"left\" class=\"DifFlBj\">Índice TEF Inverso X5</td><td>521,50</td><td>485,10</td><td class=\"DifClBj\">-6,98</td><td>506,60</td><td>472,20</td><td align=\"center\">22/11/2019</td><td align=\"center\">17:38:01</td><td class=\"DifClBj Ult\">-32,47</td>\n",
       "</tr><tr align=\"right\">\n",
       "<td align=\"left\" class=\"DifFlBj\">Índice SAN Inverso X5</td><td>17,20</td><td>16,10</td><td class=\"DifClBj\">-6,40</td><td>17,00</td><td>14,90</td><td align=\"center\">22/11/2019</td><td align=\"center\">17:38:01</td><td class=\"DifClBj Ult\">-60,54</td>\n",
       "</tr><tr align=\"right\">\n",
       "<td align=\"left\" class=\"DifFlBj\">Índice BBVA Inverso X5</td><td>77,80</td><td>74,80</td><td class=\"DifClBj\">-3,86</td><td>77,40</td><td>70,10</td><td align=\"center\">22/11/2019</td><td align=\"center\">17:38:00</td><td class=\"DifClBj Ult\">-78,80</td>\n",
       "</tr><tr align=\"right\">\n",
       "<td align=\"left\" class=\"DifFlSb\">Índice ITX Inverso X5</td><td>193,20</td><td>195,10</td><td class=\"DifClSb\">0,98</td><td>198,30</td><td>186,40</td><td align=\"center\">22/11/2019</td><td align=\"center\">17:38:01</td><td class=\"DifClBj Ult\">-87,45</td>\n",
       "</tr>\n",
       "</table>"
      ]
     },
     "execution_count": 5,
     "metadata": {},
     "output_type": "execute_result"
    }
   ],
   "source": [
    "# Obtenemos la tabla por un ID específico\n",
    "tabla = soup.find('table', attrs={'id': 'ctl00_Contenido_tblÍndices'})\n",
    "tabla"
   ]
  },
  {
   "cell_type": "code",
   "execution_count": 6,
   "metadata": {
    "ExecuteTime": {
     "end_time": "2019-01-27T17:55:08.443093Z",
     "start_time": "2019-01-27T17:55:08.436365Z"
    }
   },
   "outputs": [
    {
     "name": "stdout",
     "output_type": "stream",
     "text": [
      "Indice: IBEX 35®\n",
      "Valor: 9.254,70\n"
     ]
    }
   ],
   "source": [
    "name=\"\"\n",
    "price=\"\"\n",
    "nroFila=0\n",
    "for fila in tabla.find_all(\"tr\"):\n",
    "    if nroFila==1:\n",
    "        nroCelda=0\n",
    "        for celda in fila.find_all('td'):\n",
    "            if nroCelda==0:\n",
    "                name=celda.text\n",
    "                print(\"Indice:\", name)\n",
    "            if nroCelda==2:\n",
    "                price=celda.text\n",
    "                print(\"Valor:\", price)\n",
    "            nroCelda=nroCelda+1\n",
    "    nroFila=nroFila+1"
   ]
  },
  {
   "cell_type": "code",
   "execution_count": 20,
   "metadata": {
    "ExecuteTime": {
     "end_time": "2019-01-27T17:56:28.279786Z",
     "start_time": "2019-01-27T17:56:28.271938Z"
    }
   },
   "outputs": [],
   "source": [
    "# Abrimos el csv con append para que pueda agregar contenidos al final del archivo\n",
    "with open('bolsa_ibex35.csv', 'a') as csv_file:\n",
    "    writer = csv.writer(csv_file)\n",
    "    writer.writerow([name, price, datetime.now()])"
   ]
  },
  {
   "cell_type": "markdown",
   "metadata": {},
   "source": [
    "# Obtener resultados de Futbol\n",
    "## Ejemplo Liga BBVA - España - Primera -  desde marcadores.com"
   ]
  },
  {
   "cell_type": "code",
   "execution_count": 51,
   "metadata": {
    "ExecuteTime": {
     "end_time": "2019-01-27T18:26:04.881325Z",
     "start_time": "2019-01-27T18:26:04.877803Z"
    }
   },
   "outputs": [],
   "source": [
    "url_page = 'https://www.marca.com/futbol/primera-division/clasificacion.html' # Marca"
   ]
  },
  {
   "cell_type": "code",
   "execution_count": 52,
   "metadata": {
    "ExecuteTime": {
     "end_time": "2019-01-27T18:26:07.064454Z",
     "start_time": "2019-01-27T18:26:05.493551Z"
    }
   },
   "outputs": [],
   "source": [
    "# tarda 1500 milisegundos\n",
    "page = requests.get(url_page).text \n",
    "soup = BeautifulSoup(page, \"lxml\")"
   ]
  },
  {
   "cell_type": "code",
   "execution_count": 56,
   "metadata": {
    "ExecuteTime": {
     "end_time": "2019-01-27T18:31:00.402982Z",
     "start_time": "2019-01-27T18:31:00.299063Z"
    }
   },
   "outputs": [],
   "source": [
    "# Obtenemos la tabla por un ID específico\n",
    "tabla = soup.find('table', attrs={'id': 'ueTableRanking'})\n",
    "tabla"
   ]
  },
  {
   "cell_type": "code",
   "execution_count": 57,
   "metadata": {},
   "outputs": [
    {
     "ename": "AttributeError",
     "evalue": "'NoneType' object has no attribute 'find'",
     "output_type": "error",
     "traceback": [
      "\u001b[1;31m---------------------------------------------------------------------------\u001b[0m",
      "\u001b[1;31mAttributeError\u001b[0m                            Traceback (most recent call last)",
      "\u001b[1;32m<ipython-input-57-5e216a4e6305>\u001b[0m in \u001b[0;36m<module>\u001b[1;34m\u001b[0m\n\u001b[1;32m----> 1\u001b[1;33m \u001b[0mnombre_equipo\u001b[0m \u001b[1;33m=\u001b[0m \u001b[0mtabla\u001b[0m\u001b[1;33m.\u001b[0m\u001b[0mfind\u001b[0m\u001b[1;33m(\u001b[0m\u001b[1;34m'span'\u001b[0m\u001b[1;33m,\u001b[0m \u001b[0mattrs\u001b[0m\u001b[1;33m=\u001b[0m\u001b[1;33m{\u001b[0m\u001b[1;34m'class'\u001b[0m\u001b[1;33m:\u001b[0m \u001b[1;34m'ue-c-table-ranking__team-name'\u001b[0m\u001b[1;33m}\u001b[0m\u001b[1;33m)\u001b[0m\u001b[1;33m.\u001b[0m\u001b[0mgetText\u001b[0m\u001b[1;33m(\u001b[0m\u001b[1;33m)\u001b[0m\u001b[1;33m\u001b[0m\u001b[1;33m\u001b[0m\u001b[0m\n\u001b[0m",
      "\u001b[1;31mAttributeError\u001b[0m: 'NoneType' object has no attribute 'find'"
     ]
    }
   ],
   "source": [
    "nombre_equipo = tabla.find('span', attrs={'class': 'ue-c-table-ranking__team-name'}).getText()\n"
   ]
  },
  {
   "cell_type": "code",
   "execution_count": 19,
   "metadata": {
    "ExecuteTime": {
     "end_time": "2019-01-27T18:33:29.634584Z",
     "start_time": "2019-01-27T18:33:29.621584Z"
    }
   },
   "outputs": [],
   "source": [
    "data = []\n",
    "equipo1=\"\"\n",
    "equipo2=\"\"\n",
    "resultado=\"\"\n",
    "nroFila=0\n",
    "for fila in tabla.find_all(\"tr\"):\n",
    "    if nroFila>0:\n",
    "        nroCelda=0\n",
    "        capturar=False\n",
    "        for celda in fila.find_all('td'):\n",
    "            if nroCelda==1 and celda.text=='Fin.':\n",
    "                capturar=True\n",
    "            if capturar and nroCelda==2:\n",
    "                equipo1=celda.text\n",
    "            if capturar and nroCelda==4:\n",
    "                equipo2=celda.text\n",
    "            if capturar and nroCelda==5:\n",
    "                resultado=celda.text\n",
    "                print(\"Partido:\", equipo1,'vs',equipo2,resultado)\n",
    "                data.append((equipo1,equipo2,resultado))\n",
    "            nroCelda=nroCelda+1\n",
    "    nroFila=nroFila+1"
   ]
  },
  {
   "cell_type": "code",
   "execution_count": 20,
   "metadata": {
    "ExecuteTime": {
     "end_time": "2019-01-27T18:34:52.245736Z",
     "start_time": "2019-01-27T18:34:52.233185Z"
    }
   },
   "outputs": [],
   "source": [
    "# Abrimos el csv con append para que pueda agregar contenidos al final del archivo\n",
    "with open('partidos_liga_primera.csv', 'a') as csv_file:\n",
    "    writer = csv.writer(csv_file)\n",
    "    for equipo1, equipo2,resultado in data:\n",
    "        writer.writerow([equipo1, equipo2, resultado,datetime.now()])"
   ]
  },
  {
   "cell_type": "markdown",
   "metadata": {},
   "source": [
    "# Otros ejemplos de WebScaping"
   ]
  },
  {
   "cell_type": "code",
   "execution_count": 21,
   "metadata": {
    "ExecuteTime": {
     "end_time": "2019-01-28T18:12:37.428233Z",
     "start_time": "2019-01-28T18:12:37.420625Z"
    }
   },
   "outputs": [],
   "source": [
    "#supongamos tenemos el siguiente HTML\n",
    "pagina_web = \"<html>\" \\\n",
    "            + \"<head></head>\" \\\n",
    "            + \"<body>\" \\\n",
    "                + \"<div class='contenedor'>\" \\\n",
    "                    + \"<div id='123' name='bloque_bienvenida' class='verde'>\" \\\n",
    "                        + \"Bienvenido a mi web\" \\\n",
    "                    + \"</div>\" \\\n",
    "                + \"</div>\" \\\n",
    "            + \"</body>\" \\\n",
    "            + \"</html>\""
   ]
  },
  {
   "cell_type": "code",
   "execution_count": 22,
   "metadata": {
    "ExecuteTime": {
     "end_time": "2019-01-28T18:12:38.100550Z",
     "start_time": "2019-01-28T18:12:38.096154Z"
    }
   },
   "outputs": [],
   "source": [
    "soup = BeautifulSoup(pagina_web, \"lxml\")"
   ]
  },
  {
   "cell_type": "code",
   "execution_count": 95,
   "metadata": {
    "ExecuteTime": {
     "end_time": "2019-01-28T18:12:38.677469Z",
     "start_time": "2019-01-28T18:12:38.670578Z"
    }
   },
   "outputs": [
    {
     "data": {
      "text/plain": [
       "'Bienvenido a mi web'"
      ]
     },
     "execution_count": 95,
     "metadata": {},
     "output_type": "execute_result"
    }
   ],
   "source": [
    "#Obtener por ID:\n",
    "elTexto = soup.find('div', attrs={'id': '123'}).getText()\n",
    "print(elTexto)"
   ]
  },
  {
   "cell_type": "code",
   "execution_count": 96,
   "metadata": {
    "ExecuteTime": {
     "end_time": "2019-01-28T18:12:39.718413Z",
     "start_time": "2019-01-28T18:12:39.712544Z"
    }
   },
   "outputs": [
    {
     "data": {
      "text/plain": [
       "'Bienvenido a mi web'"
      ]
     },
     "execution_count": 96,
     "metadata": {},
     "output_type": "execute_result"
    }
   ],
   "source": [
    "#Obtener por Clase CSS:\n",
    "elTexto = soup.find('div', attrs={'class': 'verde'}).getText()\n",
    "print(elTexto)"
   ]
  },
  {
   "cell_type": "code",
   "execution_count": 97,
   "metadata": {
    "ExecuteTime": {
     "end_time": "2019-01-28T18:12:40.673362Z",
     "start_time": "2019-01-28T18:12:40.667391Z"
    }
   },
   "outputs": [
    {
     "data": {
      "text/plain": [
       "'Bienvenido a mi web'"
      ]
     },
     "execution_count": 97,
     "metadata": {},
     "output_type": "execute_result"
    }
   ],
   "source": [
    "#Obtener dentro de otra etiqueta anidado:\n",
    "elTexto = next(soup.div.children).getText() #con next obtiene primer \"hijo\"\n",
    "print(elTexto)"
   ]
  },
  {
   "cell_type": "markdown",
   "metadata": {},
   "source": [
    "## Obtener items de un listado"
   ]
  },
  {
   "cell_type": "code",
   "execution_count": 98,
   "metadata": {
    "ExecuteTime": {
     "end_time": "2019-01-28T18:12:42.573969Z",
     "start_time": "2019-01-28T18:12:42.567849Z"
    }
   },
   "outputs": [],
   "source": [
    "#supongamos tenemos el siguiente HTML\n",
    "pagina_web = \"<html>\" \\\n",
    "    + \"<head></head>\" \\\n",
    "    + \"<body>\" \\\n",
    "        + \"<div class='contenedor'>\" \\\n",
    "            + \"<ul>\" \\\n",
    "                + \"<li>Perro</li>\" \\\n",
    "                + \"<li>Gato</li>\" \\\n",
    "                + \"<li>Tortuga</li>\" \\\n",
    "            + \"</ul>\" \\\n",
    "        + \"</div>\" \\\n",
    "    + \"</body>\" \\\n",
    "    + \"</html>\""
   ]
  },
  {
   "cell_type": "code",
   "execution_count": 99,
   "metadata": {
    "ExecuteTime": {
     "end_time": "2019-01-28T18:12:43.383058Z",
     "start_time": "2019-01-28T18:12:43.378520Z"
    }
   },
   "outputs": [],
   "source": [
    "soup = BeautifulSoup(pagina_web, \"lxml\")"
   ]
  },
  {
   "cell_type": "code",
   "execution_count": 100,
   "metadata": {
    "ExecuteTime": {
     "end_time": "2019-01-28T18:12:44.100260Z",
     "start_time": "2019-01-28T18:12:44.094916Z"
    }
   },
   "outputs": [
    {
     "name": "stdout",
     "output_type": "stream",
     "text": [
      "Perro\n",
      "Gato\n",
      "Tortuga\n"
     ]
    }
   ],
   "source": [
    "for child in soup.ul.children:\n",
    "    print(child.getText())"
   ]
  },
  {
   "cell_type": "code",
   "execution_count": 101,
   "metadata": {
    "ExecuteTime": {
     "end_time": "2019-01-28T18:12:44.972925Z",
     "start_time": "2019-01-28T18:12:44.967460Z"
    }
   },
   "outputs": [
    {
     "name": "stdout",
     "output_type": "stream",
     "text": [
      "Perro\n",
      "Gato\n",
      "Tortuga\n"
     ]
    }
   ],
   "source": [
    "items = soup.find_all('li')\n",
    "for item in items:\n",
    "    print(item.getText())"
   ]
  },
  {
   "cell_type": "markdown",
   "metadata": {},
   "source": [
    "## Obtener Enlaces"
   ]
  },
  {
   "cell_type": "code",
   "execution_count": 102,
   "metadata": {
    "ExecuteTime": {
     "end_time": "2019-01-29T09:25:01.595660Z",
     "start_time": "2019-01-29T09:25:01.576485Z"
    }
   },
   "outputs": [],
   "source": [
    "#supongamos tenemos el siguiente HTML\n",
    "pagina_web = \"<html>\" \\\n",
    "    + \"<head></head>\" \\\n",
    "    + \"<body>\" \\\n",
    "        + \"<div class='contenedor'>\" \\\n",
    "            + \"<ul>\" \\\n",
    "                + \"<li><a href='http://www.google.com'>Google</a></li>\" \\\n",
    "                + \"<li><a href='http://www.yahoo.com'>Yahoo</a></li>\" \\\n",
    "                + \"<li><a href='http://www.bing.com'>Bing</a></li>\" \\\n",
    "            + \"</ul>\" \\\n",
    "        + \"</div>\" \\\n",
    "    + \"</body>\" \\\n",
    "    + \"</html>\""
   ]
  },
  {
   "cell_type": "code",
   "execution_count": 103,
   "metadata": {
    "ExecuteTime": {
     "end_time": "2019-01-29T09:25:04.281499Z",
     "start_time": "2019-01-29T09:25:04.250643Z"
    }
   },
   "outputs": [],
   "source": [
    "soup = BeautifulSoup(pagina_web, \"lxml\")"
   ]
  },
  {
   "cell_type": "code",
   "execution_count": 26,
   "metadata": {
    "ExecuteTime": {
     "end_time": "2019-01-29T09:25:43.006626Z",
     "start_time": "2019-01-29T09:25:42.996092Z"
    }
   },
   "outputs": [
    {
     "name": "stdout",
     "output_type": "stream",
     "text": [
      "https://support.cloudflare.com/hc/en-us/articles/200171936-Error-520\n",
      "https://www.cloudflare.com/5xx-error-landing?utm_source=error_footer\n"
     ]
    }
   ],
   "source": [
    "items = soup.find_all('a')\n",
    "for item in items:\n",
    "    print(item['href'])"
   ]
  },
  {
   "cell_type": "markdown",
   "metadata": {},
   "source": [
    "## Ejemplo completo Extraer enlaces"
   ]
  },
  {
   "cell_type": "code",
   "execution_count": 31,
   "metadata": {
    "ExecuteTime": {
     "end_time": "2019-01-29T09:37:57.684739Z",
     "start_time": "2019-01-29T09:37:57.069538Z"
    }
   },
   "outputs": [
    {
     "name": "stdout",
     "output_type": "stream",
     "text": [
      "None\n"
     ]
    }
   ],
   "source": [
    "url_page = 'https://www.lifeder.com/cientificos-famosos/'\n",
    "page = requests.get(url_page).text \n",
    "soup = BeautifulSoup(page, \"lxml\")\n",
    "contenido = soup.find('div', attrs={'class': 'td-post-content'})\n",
    "print(contenido)\n",
    "#items = contenido.find_all('p')\n",
    "#for item in items:\n",
    "#    print(item['href'])\n",
    "    "
   ]
  },
  {
   "cell_type": "markdown",
   "metadata": {},
   "source": [
    "El artículo completo en www.aprendemachinelearning.com"
   ]
  }
 ],
 "metadata": {
  "kernelspec": {
   "display_name": "Python 3",
   "language": "python",
   "name": "python3"
  },
  "language_info": {
   "codemirror_mode": {
    "name": "ipython",
    "version": 3
   },
   "file_extension": ".py",
   "mimetype": "text/x-python",
   "name": "python",
   "nbconvert_exporter": "python",
   "pygments_lexer": "ipython3",
   "version": "3.7.4"
  }
 },
 "nbformat": 4,
 "nbformat_minor": 2
}
